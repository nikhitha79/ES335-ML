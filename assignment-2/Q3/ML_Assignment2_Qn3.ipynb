{
  "nbformat": 4,
  "nbformat_minor": 0,
  "metadata": {
    "colab": {
      "provenance": []
    },
    "kernelspec": {
      "name": "python3",
      "display_name": "Python 3"
    },
    "language_info": {
      "name": "python"
    }
  },
  "cells": [
    {
      "cell_type": "markdown",
      "source": [
        "**Qn 3**"
      ],
      "metadata": {
        "id": "UGJtfgXFitzA"
      }
    },
    {
      "cell_type": "code",
      "execution_count": null,
      "metadata": {
        "id": "VUS2qjIqhwMD"
      },
      "outputs": [],
      "source": [
        "import matplotlib.pyplot as plt\n",
        "import pandas as pd\n",
        "%matplotlib inline\n",
        "%config InlineBackend.figure_format = 'retina'\n",
        "\n",
        "import numpy as np"
      ]
    },
    {
      "cell_type": "code",
      "source": [
        "x1 = np.array([1, 2, 3])\n",
        "x2 = 2*x1\n",
        "\n",
        "y = np.array([4, 6, 8])"
      ],
      "metadata": {
        "id": "sRKrNzqoh6zX"
      },
      "execution_count": null,
      "outputs": []
    },
    {
      "cell_type": "code",
      "source": [
        "all_ones = np.ones(x1.shape[0])\n",
        "X = np.array([all_ones, x1, x2]).T"
      ],
      "metadata": {
        "id": "XZ6D6owyh848"
      },
      "execution_count": null,
      "outputs": []
    },
    {
      "cell_type": "code",
      "source": [
        "X.shape"
      ],
      "metadata": {
        "id": "8M2Xoquzh-qS",
        "colab": {
          "base_uri": "https://localhost:8080/"
        },
        "outputId": "c45b9aa9-b734-4f86-b706-83a19de0a4c5"
      },
      "execution_count": null,
      "outputs": [
        {
          "output_type": "execute_result",
          "data": {
            "text/plain": [
              "(3, 3)"
            ]
          },
          "metadata": {},
          "execution_count": 4
        }
      ]
    },
    {
      "cell_type": "code",
      "source": [
        "X"
      ],
      "metadata": {
        "id": "jRqvWkGUiBTp",
        "colab": {
          "base_uri": "https://localhost:8080/"
        },
        "outputId": "52b920ef-5f81-4998-f1ba-c248e9b64b94"
      },
      "execution_count": null,
      "outputs": [
        {
          "output_type": "execute_result",
          "data": {
            "text/plain": [
              "array([[1., 1., 2.],\n",
              "       [1., 2., 4.],\n",
              "       [1., 3., 6.]])"
            ]
          },
          "metadata": {},
          "execution_count": 5
        }
      ]
    },
    {
      "cell_type": "code",
      "source": [
        "def solve_normal_equation(X, y):\n",
        "    try:\n",
        "        theta = np.linalg.inv(X.T @ X) @ X.T @ y\n",
        "        return theta\n",
        "    except np.linalg.LinAlgError:\n",
        "        print('The matrix is singular')\n",
        "        print(\"X.T @ X = \\n\", X.T @ X)\n",
        "        return None\n"
      ],
      "metadata": {
        "id": "ObKT9hCziCpX"
      },
      "execution_count": null,
      "outputs": []
    },
    {
      "cell_type": "code",
      "source": [
        "solve_normal_equation(X, y)"
      ],
      "metadata": {
        "id": "NHONwOcCiKXR",
        "colab": {
          "base_uri": "https://localhost:8080/"
        },
        "outputId": "13bcbc35-a2f1-4deb-8bd2-4deddd5022ce"
      },
      "execution_count": null,
      "outputs": [
        {
          "output_type": "stream",
          "name": "stdout",
          "text": [
            "The matrix is singular\n",
            "X.T @ X = \n",
            " [[ 3.  6. 12.]\n",
            " [ 6. 14. 28.]\n",
            " [12. 28. 56.]]\n"
          ]
        }
      ]
    },
    {
      "cell_type": "code",
      "source": [
        "np.linalg.matrix_rank(X)"
      ],
      "metadata": {
        "colab": {
          "base_uri": "https://localhost:8080/"
        },
        "id": "z72N2q5fxlz0",
        "outputId": "06a800b3-d3a8-4a24-a9d3-8f408eb448a0"
      },
      "execution_count": null,
      "outputs": [
        {
          "output_type": "execute_result",
          "data": {
            "text/plain": [
              "2"
            ]
          },
          "metadata": {},
          "execution_count": 11
        }
      ]
    },
    {
      "cell_type": "code",
      "source": [
        "np.linalg.matrix_rank(X.T @ X)"
      ],
      "metadata": {
        "id": "Eo4Ijq3MiMMy",
        "colab": {
          "base_uri": "https://localhost:8080/"
        },
        "outputId": "0cbbd00e-a329-4a7f-baa1-c426f5edab1e"
      },
      "execution_count": null,
      "outputs": [
        {
          "output_type": "execute_result",
          "data": {
            "text/plain": [
              "2"
            ]
          },
          "metadata": {},
          "execution_count": 13
        }
      ]
    },
    {
      "cell_type": "code",
      "source": [
        "from sklearn.linear_model import LinearRegression\n",
        "lr = LinearRegression()\n",
        "\n",
        "data = np.array([x1, x2]).T\n",
        "\n",
        "lr.fit(data, y)\n",
        "lr.coef_, lr.intercept_\n"
      ],
      "metadata": {
        "id": "PzGeUDT5iN2k",
        "colab": {
          "base_uri": "https://localhost:8080/"
        },
        "outputId": "d221996b-f5e0-4c3b-c1dc-807bece8d78b"
      },
      "execution_count": null,
      "outputs": [
        {
          "output_type": "execute_result",
          "data": {
            "text/plain": [
              "(array([0.4, 0.8]), 2.0)"
            ]
          },
          "metadata": {},
          "execution_count": 22
        }
      ]
    },
    
    {
      "cell_type": "code",
      "source": [
        "# Regularization\n",
        "\n",
        "eps = 1e-5\n",
        "X = np.array([all_ones, x1, x2]).T\n",
        "X = np.eye(3)*eps + X\n"
      ],
      "metadata": {
        "id": "9eWJBSRCwBvc"
      },
      "execution_count": null,
      "outputs": []
    },
    {
      "cell_type": "code",
      "source": [
        "X"
      ],
      "metadata": {
        "colab": {
          "base_uri": "https://localhost:8080/"
        },
        "id": "d2E-AGGFx6H5",
        "outputId": "cecc3544-5431-47e7-c85f-1fae09d2ce5d"
      },
      "execution_count": null,
      "outputs": [
        {
          "output_type": "execute_result",
          "data": {
            "text/plain": [
              "array([[1.00001, 1.     , 2.     ],\n",
              "       [1.     , 2.00001, 4.     ],\n",
              "       [1.     , 3.     , 6.00001]])"
            ]
          },
          "metadata": {},
          "execution_count": 17
        }
      ]
    },
    {
      "cell_type": "code",
      "source": [
        "np.linalg.matrix_rank(X)"
      ],
      "metadata": {
        "colab": {
          "base_uri": "https://localhost:8080/"
        },
        "id": "fotGwBa8wFUW",
        "outputId": "659f719d-c5e4-4eee-f855-bcf16124fb0f"
      },
      "execution_count": null,
      "outputs": [
        {
          "output_type": "execute_result",
          "data": {
            "text/plain": [
              "3"
            ]
          },
          "metadata": {},
          "execution_count": 18
        }
      ]
    },
    {
      "cell_type": "code",
      "source": [
        "solve_normal_equation(X, y)"
      ],
      "metadata": {
        "colab": {
          "base_uri": "https://localhost:8080/"
        },
        "id": "gFVWpASMwG4v",
        "outputId": "c32f3d98-0147-431f-c2ee-4f72574e9b1e"
      },
      "execution_count": null,
      "outputs": [
        {
          "output_type": "execute_result",
          "data": {
            "text/plain": [
              "array([2.00023248, 1.19987743, 0.40001887])"
            ]
          },
          "metadata": {},
          "execution_count": 19
        }
      ]
    }
  ]
}
